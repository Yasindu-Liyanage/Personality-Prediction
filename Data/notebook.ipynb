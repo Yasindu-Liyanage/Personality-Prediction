{
 "cells": [
  {
   "cell_type": "code",
   "execution_count": 1,
   "id": "04a45f43",
   "metadata": {},
   "outputs": [],
   "source": [
    "import pandas as pd\n",
    "import numpy as np\n",
    "import matplotlib.pyplot as plt\n",
    "import seaborn as sns"
   ]
  },
  {
   "cell_type": "code",
   "execution_count": null,
   "id": "81f06c60",
   "metadata": {},
   "outputs": [
    {
     "data": {
      "text/html": [
       "<div>\n",
       "<style scoped>\n",
       "    .dataframe tbody tr th:only-of-type {\n",
       "        vertical-align: middle;\n",
       "    }\n",
       "\n",
       "    .dataframe tbody tr th {\n",
       "        vertical-align: top;\n",
       "    }\n",
       "\n",
       "    .dataframe thead th {\n",
       "        text-align: right;\n",
       "    }\n",
       "</style>\n",
       "<table border=\"1\" class=\"dataframe\">\n",
       "  <thead>\n",
       "    <tr style=\"text-align: right;\">\n",
       "      <th></th>\n",
       "      <th>Time_spent_Alone</th>\n",
       "      <th>Stage_fear</th>\n",
       "      <th>Social_event_attendance</th>\n",
       "      <th>Going_outside</th>\n",
       "      <th>Drained_after_socializing</th>\n",
       "      <th>Friends_circle_size</th>\n",
       "      <th>Post_frequency</th>\n",
       "      <th>Personality</th>\n",
       "    </tr>\n",
       "  </thead>\n",
       "  <tbody>\n",
       "    <tr>\n",
       "      <th>0</th>\n",
       "      <td>4.0</td>\n",
       "      <td>No</td>\n",
       "      <td>4.0</td>\n",
       "      <td>6.0</td>\n",
       "      <td>No</td>\n",
       "      <td>13.0</td>\n",
       "      <td>5.0</td>\n",
       "      <td>Extrovert</td>\n",
       "    </tr>\n",
       "    <tr>\n",
       "      <th>1</th>\n",
       "      <td>9.0</td>\n",
       "      <td>Yes</td>\n",
       "      <td>0.0</td>\n",
       "      <td>0.0</td>\n",
       "      <td>Yes</td>\n",
       "      <td>0.0</td>\n",
       "      <td>3.0</td>\n",
       "      <td>Introvert</td>\n",
       "    </tr>\n",
       "    <tr>\n",
       "      <th>2</th>\n",
       "      <td>9.0</td>\n",
       "      <td>Yes</td>\n",
       "      <td>1.0</td>\n",
       "      <td>2.0</td>\n",
       "      <td>Yes</td>\n",
       "      <td>5.0</td>\n",
       "      <td>2.0</td>\n",
       "      <td>Introvert</td>\n",
       "    </tr>\n",
       "    <tr>\n",
       "      <th>3</th>\n",
       "      <td>0.0</td>\n",
       "      <td>No</td>\n",
       "      <td>6.0</td>\n",
       "      <td>7.0</td>\n",
       "      <td>No</td>\n",
       "      <td>14.0</td>\n",
       "      <td>8.0</td>\n",
       "      <td>Extrovert</td>\n",
       "    </tr>\n",
       "    <tr>\n",
       "      <th>4</th>\n",
       "      <td>3.0</td>\n",
       "      <td>No</td>\n",
       "      <td>9.0</td>\n",
       "      <td>4.0</td>\n",
       "      <td>No</td>\n",
       "      <td>8.0</td>\n",
       "      <td>5.0</td>\n",
       "      <td>Extrovert</td>\n",
       "    </tr>\n",
       "  </tbody>\n",
       "</table>\n",
       "</div>"
      ],
      "text/plain": [
       "   Time_spent_Alone Stage_fear  Social_event_attendance  Going_outside  \\\n",
       "0               4.0         No                      4.0            6.0   \n",
       "1               9.0        Yes                      0.0            0.0   \n",
       "2               9.0        Yes                      1.0            2.0   \n",
       "3               0.0         No                      6.0            7.0   \n",
       "4               3.0         No                      9.0            4.0   \n",
       "\n",
       "  Drained_after_socializing  Friends_circle_size  Post_frequency Personality  \n",
       "0                        No                 13.0             5.0   Extrovert  \n",
       "1                       Yes                  0.0             3.0   Introvert  \n",
       "2                       Yes                  5.0             2.0   Introvert  \n",
       "3                        No                 14.0             8.0   Extrovert  \n",
       "4                        No                  8.0             5.0   Extrovert  "
      ]
     },
     "execution_count": 5,
     "metadata": {},
     "output_type": "execute_result"
    }
   ],
   "source": [
    "df = pd.read_csv('../personality_dataset.csv')\n",
    "df.head()"
   ]
  },
  {
   "cell_type": "code",
   "execution_count": null,
   "id": "528546c3",
   "metadata": {},
   "outputs": [
    {
     "data": {
      "text/plain": [
       "(2900, 8)"
      ]
     },
     "execution_count": 11,
     "metadata": {},
     "output_type": "execute_result"
    }
   ],
   "source": [
    "df.shape\n"
   ]
  },
  {
   "cell_type": "markdown",
   "id": "7f22add5",
   "metadata": {},
   "source": [
    "### Dataset Information"
   ]
  },
  {
   "cell_type": "markdown",
   "id": "3d72d401",
   "metadata": {},
   "source": [
    "features - 7 \n",
    "datapoints - 2900\n",
    "\n"
   ]
  },
  {
   "cell_type": "code",
   "execution_count": null,
   "id": "4e281f60",
   "metadata": {},
   "outputs": [],
   "source": []
  },
  {
   "cell_type": "code",
   "execution_count": null,
   "id": "42d29893",
   "metadata": {},
   "outputs": [
    {
     "name": "stdout",
     "output_type": "stream",
     "text": [
      "Column: Time_spent_Alone\n",
      "[ 4.  9.  0.  3.  1.  2. 10.  6.  5.  8. nan  7. 11.]\n",
      " ================================================\n",
      "\n",
      "Column: Stage_fear\n",
      "['No' 'Yes' nan]\n",
      " ================================================\n",
      "\n",
      "Column: Social_event_attendance\n",
      "[ 4.  0.  1.  6.  9.  7.  8.  3.  5.  2. 10. nan]\n",
      " ================================================\n",
      "\n",
      "Column: Going_outside\n",
      "[ 6.  0.  2.  7.  4.  5. nan  3.  1.]\n",
      " ================================================\n",
      "\n",
      "Column: Drained_after_socializing\n",
      "['No' 'Yes' nan]\n",
      " ================================================\n",
      "\n",
      "Column: Friends_circle_size\n",
      "[13.  0.  5. 14.  8.  6.  7. 15.  4. 10.  1. 12.  2. 11.  9.  3. nan]\n",
      " ================================================\n",
      "\n",
      "Column: Post_frequency\n",
      "[ 5.  3.  2.  8.  6.  7.  0. 10.  4.  1.  9. nan]\n",
      " ================================================\n",
      "\n",
      "Column: Personality\n",
      "['Extrovert' 'Introvert']\n",
      " ================================================\n",
      "\n"
     ]
    }
   ],
   "source": [
    "for column in df.columns:\n",
    "    print(f\"Column: {column}\")\n",
    "    print(df[column].unique())\n",
    "    print(\" =======================================\\n\")"
   ]
  },
  {
   "cell_type": "code",
   "execution_count": null,
   "id": "3d32e72c",
   "metadata": {},
   "outputs": [],
   "source": []
  },
  {
   "cell_type": "code",
   "execution_count": null,
   "id": "b0867f30",
   "metadata": {},
   "outputs": [
    {
     "data": {
      "text/plain": [
       "Time_spent_Alone             63\n",
       "Stage_fear                   73\n",
       "Social_event_attendance      62\n",
       "Going_outside                66\n",
       "Drained_after_socializing    52\n",
       "Friends_circle_size          77\n",
       "Post_frequency               65\n",
       "Personality                   0\n",
       "dtype: int64"
      ]
     },
     "execution_count": 12,
     "metadata": {},
     "output_type": "execute_result"
    }
   ],
   "source": [
    "df.isna().sum()"
   ]
  },
  {
   "cell_type": "code",
   "execution_count": null,
   "id": "09d16445",
   "metadata": {},
   "outputs": [
    {
     "data": {
      "text/plain": [
       "388"
      ]
     },
     "execution_count": 14,
     "metadata": {},
     "output_type": "execute_result"
    }
   ],
   "source": [
    "df.duplicated().sum()"
   ]
  },
  {
   "cell_type": "code",
   "execution_count": null,
   "id": "e2dbec49",
   "metadata": {},
   "outputs": [
    {
     "name": "stdout",
     "output_type": "stream",
     "text": [
      "Column: Time_spent_Alone\n",
      "Time_spent_Alone\n",
      "0.0     369\n",
      "2.0     357\n",
      "3.0     353\n",
      "1.0     326\n",
      "9.0     206\n",
      "10.0    196\n",
      "4.0     190\n",
      "7.0     190\n",
      "5.0     180\n",
      "8.0     180\n",
      "6.0     150\n",
      "11.0    140\n",
      "Name: count, dtype: int64\n",
      " ================================================\n",
      "\n",
      "Column: Stage_fear\n",
      "Time_spent_Alone\n",
      "0.0     369\n",
      "2.0     357\n",
      "3.0     353\n",
      "1.0     326\n",
      "9.0     206\n",
      "10.0    196\n",
      "4.0     190\n",
      "7.0     190\n",
      "5.0     180\n",
      "8.0     180\n",
      "6.0     150\n",
      "11.0    140\n",
      "Name: count, dtype: int64\n",
      " ================================================\n",
      "\n",
      "Column: Social_event_attendance\n",
      "Time_spent_Alone\n",
      "0.0     369\n",
      "2.0     357\n",
      "3.0     353\n",
      "1.0     326\n",
      "9.0     206\n",
      "10.0    196\n",
      "4.0     190\n",
      "7.0     190\n",
      "5.0     180\n",
      "8.0     180\n",
      "6.0     150\n",
      "11.0    140\n",
      "Name: count, dtype: int64\n",
      " ================================================\n",
      "\n",
      "Column: Going_outside\n",
      "Time_spent_Alone\n",
      "0.0     369\n",
      "2.0     357\n",
      "3.0     353\n",
      "1.0     326\n",
      "9.0     206\n",
      "10.0    196\n",
      "4.0     190\n",
      "7.0     190\n",
      "5.0     180\n",
      "8.0     180\n",
      "6.0     150\n",
      "11.0    140\n",
      "Name: count, dtype: int64\n",
      " ================================================\n",
      "\n",
      "Column: Drained_after_socializing\n",
      "Time_spent_Alone\n",
      "0.0     369\n",
      "2.0     357\n",
      "3.0     353\n",
      "1.0     326\n",
      "9.0     206\n",
      "10.0    196\n",
      "4.0     190\n",
      "7.0     190\n",
      "5.0     180\n",
      "8.0     180\n",
      "6.0     150\n",
      "11.0    140\n",
      "Name: count, dtype: int64\n",
      " ================================================\n",
      "\n",
      "Column: Friends_circle_size\n",
      "Time_spent_Alone\n",
      "0.0     369\n",
      "2.0     357\n",
      "3.0     353\n",
      "1.0     326\n",
      "9.0     206\n",
      "10.0    196\n",
      "4.0     190\n",
      "7.0     190\n",
      "5.0     180\n",
      "8.0     180\n",
      "6.0     150\n",
      "11.0    140\n",
      "Name: count, dtype: int64\n",
      " ================================================\n",
      "\n",
      "Column: Post_frequency\n",
      "Time_spent_Alone\n",
      "0.0     369\n",
      "2.0     357\n",
      "3.0     353\n",
      "1.0     326\n",
      "9.0     206\n",
      "10.0    196\n",
      "4.0     190\n",
      "7.0     190\n",
      "5.0     180\n",
      "8.0     180\n",
      "6.0     150\n",
      "11.0    140\n",
      "Name: count, dtype: int64\n",
      " ================================================\n",
      "\n",
      "Column: Personality\n",
      "Time_spent_Alone\n",
      "0.0     369\n",
      "2.0     357\n",
      "3.0     353\n",
      "1.0     326\n",
      "9.0     206\n",
      "10.0    196\n",
      "4.0     190\n",
      "7.0     190\n",
      "5.0     180\n",
      "8.0     180\n",
      "6.0     150\n",
      "11.0    140\n",
      "Name: count, dtype: int64\n",
      " ================================================\n",
      "\n"
     ]
    }
   ],
   "source": [
    "for column in df.columns:\n",
    "    print(f\"Column: {column}\")\n",
    "    print(df[\"Time_spent_Alone\"].value_counts())\n",
    "    print(\" ================================================\\n\")"
   ]
  },
  {
   "cell_type": "code",
   "execution_count": null,
   "id": "935c4465",
   "metadata": {},
   "outputs": [],
   "source": []
  },
  {
   "cell_type": "code",
   "execution_count": null,
   "id": "de352322",
   "metadata": {},
   "outputs": [],
   "source": []
  },
  {
   "cell_type": "code",
   "execution_count": null,
   "id": "8fc82ae0",
   "metadata": {},
   "outputs": [],
   "source": []
  },
  {
   "cell_type": "code",
   "execution_count": null,
   "id": "0f8f5b42",
   "metadata": {},
   "outputs": [],
   "source": []
  },
  {
   "cell_type": "code",
   "execution_count": null,
   "id": "c1253e95",
   "metadata": {},
   "outputs": [],
   "source": []
  },
  {
   "cell_type": "code",
   "execution_count": null,
   "id": "6b1cfd20",
   "metadata": {},
   "outputs": [],
   "source": []
  }
 ],
 "metadata": {
  "kernelspec": {
   "display_name": "Python 3",
   "language": "python",
   "name": "python3"
  },
  "language_info": {
   "codemirror_mode": {
    "name": "ipython",
    "version": 3
   },
   "file_extension": ".py",
   "mimetype": "text/x-python",
   "name": "python",
   "nbconvert_exporter": "python",
   "pygments_lexer": "ipython3",
   "version": "3.12.1"
  }
 },
 "nbformat": 4,
 "nbformat_minor": 5
}
